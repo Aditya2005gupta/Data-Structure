{
  "nbformat": 4,
  "nbformat_minor": 0,
  "metadata": {
    "colab": {
      "provenance": []
    },
    "kernelspec": {
      "name": "python3",
      "display_name": "Python 3"
    },
    "language_info": {
      "name": "python"
    }
  },
  "cells": [
    {
      "cell_type": "markdown",
      "source": [
        "Data Types and Structures Questions"
      ],
      "metadata": {
        "id": "UzYl9OtZmqeL"
      }
    },
    {
      "cell_type": "markdown",
      "source": [
        "(1) What are data structures, and why are they important?\n",
        "-   Data structures is a way of the organisantion of the data so we can easily access the data and manipulate the data.\n",
        "-It is important because we need to the data in the systematics way."
      ],
      "metadata": {
        "id": "ZVrYkC8DmwLn"
      }
    },
    {
      "cell_type": "markdown",
      "source": [
        "(2)  Explain the difference between mutable and immutable data types with examples?\n",
        "-   Mutable data type menas we can change the item of the data like List etc\n",
        "-   Immutable data type means we can not change the item of the data like Tuple,set etc"
      ],
      "metadata": {
        "id": "pjuxRmDDnQOC"
      }
    },
    {
      "cell_type": "code",
      "source": [
        "list = [\"Aditya\",1,2]\n",
        "Tuple = (1,2,3)\n",
        "list[0] = 0\n",
        "print(list) # List is muttable"
      ],
      "metadata": {
        "colab": {
          "base_uri": "https://localhost:8080/"
        },
        "id": "VkTU4egLmvAe",
        "outputId": "9a3482f1-4869-40fe-cb2b-3b54417cfa8a"
      },
      "execution_count": null,
      "outputs": [
        {
          "output_type": "stream",
          "name": "stdout",
          "text": [
            "[0, 1, 2]\n"
          ]
        }
      ]
    },
    {
      "cell_type": "code",
      "source": [
        "tuple[0] = 0\n",
        "print(tuple) # Tuple is an immutable\n"
      ],
      "metadata": {
        "colab": {
          "base_uri": "https://localhost:8080/",
          "height": 158
        },
        "id": "XdmYpkmxn93Y",
        "outputId": "18987a4c-31a0-4ff2-ab13-900bca61b507"
      },
      "execution_count": null,
      "outputs": [
        {
          "output_type": "error",
          "ename": "TypeError",
          "evalue": "'type' object does not support item assignment",
          "traceback": [
            "\u001b[0;31m---------------------------------------------------------------------------\u001b[0m",
            "\u001b[0;31mTypeError\u001b[0m                                 Traceback (most recent call last)",
            "\u001b[0;32m<ipython-input-39-efef379c3f1f>\u001b[0m in \u001b[0;36m<cell line: 0>\u001b[0;34m()\u001b[0m\n\u001b[0;32m----> 1\u001b[0;31m \u001b[0mtuple\u001b[0m\u001b[0;34m[\u001b[0m\u001b[0;36m0\u001b[0m\u001b[0;34m]\u001b[0m \u001b[0;34m=\u001b[0m \u001b[0;36m0\u001b[0m\u001b[0;34m\u001b[0m\u001b[0;34m\u001b[0m\u001b[0m\n\u001b[0m\u001b[1;32m      2\u001b[0m \u001b[0mprint\u001b[0m\u001b[0;34m(\u001b[0m\u001b[0mtuple\u001b[0m\u001b[0;34m)\u001b[0m \u001b[0;31m# Tuple is an immutable\u001b[0m\u001b[0;34m\u001b[0m\u001b[0;34m\u001b[0m\u001b[0m\n",
            "\u001b[0;31mTypeError\u001b[0m: 'type' object does not support item assignment"
          ]
        }
      ]
    },
    {
      "cell_type": "markdown",
      "source": [
        "(3) What are the main differences between lists and tuples in Python?\n",
        "-    List is the type of the data structure in the list we can change the item of the list\n",
        "-   Tuple is the type of the data structure in the tuple we can not change the item of the tuple."
      ],
      "metadata": {
        "id": "hI6mV1vEoRVd"
      }
    },
    {
      "cell_type": "markdown",
      "source": [
        "(4) Describe how dictionaries store data.\n",
        "-   Duictionary store the data in the form of the key-value pairs."
      ],
      "metadata": {
        "id": "OEtWZ5StoyXO"
      }
    },
    {
      "cell_type": "code",
      "source": [
        "d = {\"1\":\"Aditya\",\"2\":\"Madan\"}\n",
        "print(d)"
      ],
      "metadata": {
        "id": "8YnMXEuAoJxu",
        "colab": {
          "base_uri": "https://localhost:8080/"
        },
        "outputId": "5d7e2d67-5ef5-48e7-96ee-381ffa874ec3"
      },
      "execution_count": 67,
      "outputs": [
        {
          "output_type": "stream",
          "name": "stdout",
          "text": [
            "{'1': 'Aditya', '2': 'Madan'}\n"
          ]
        }
      ]
    },
    {
      "cell_type": "markdown",
      "source": [
        "(5) Why might you use a set instead of a list in Python?\n",
        "-   Because set is the unique collection of the item where as list is the collection of item it does not matter the repetation of the item."
      ],
      "metadata": {
        "id": "XSCqZGv3pcDg"
      }
    },
    {
      "cell_type": "markdown",
      "source": [
        "(6) What is a string in Python, and how is it different from a list?\n",
        "-   String is the type of the data structure where as list is also the type of the data structure but String is an immutable data but list is a mutable data."
      ],
      "metadata": {
        "id": "qnHKql3bp0iC"
      }
    },
    {
      "cell_type": "markdown",
      "source": [
        "(7) How do tuples ensure data integrity in Python?\n",
        "-   Tuple ensure the integrity in python through the immutable when tha item is assignend to the tuple they do not change the item."
      ],
      "metadata": {
        "id": "D2JYZV8iqPTC"
      }
    },
    {
      "cell_type": "markdown",
      "source": [
        "(8) What is a hash table, and how does it relate to dictionaries in Python?\n",
        "-  A hash table is the data structure where it store the data in the form of the key-value pairs .\n",
        "-So dictionary is also the key-value pairs and dictionary is also use the hash table"
      ],
      "metadata": {
        "id": "-b4Pr-WosSTq"
      }
    },
    {
      "cell_type": "markdown",
      "source": [
        "(9) Can lists contain different data types in Python?\n",
        "- Yes , lists contain different data type in the python."
      ],
      "metadata": {
        "id": "szUBB--jtA2c"
      }
    },
    {
      "cell_type": "markdown",
      "source": [
        "(10) Explain why strings are immutable in Python?\n",
        "-    Strings are immutbale in python due to memory efficency."
      ],
      "metadata": {
        "id": "nXKLCaDLtMuC"
      }
    },
    {
      "cell_type": "markdown",
      "source": [
        "(11) What advantages do dictionaries offer over lists for certain tasks?\n",
        "-    Dictionary over the list due to dictionary has key-value paie item and it is easy to understand."
      ],
      "metadata": {
        "id": "CvQHM8-6t9-q"
      }
    },
    {
      "cell_type": "markdown",
      "source": [
        "(12) Describe a scenario where using a tuple would be preferable over a list?\n",
        "-    Tuple would be preferable over a list when the data are constant and we do not change the data.\n",
        "-  like- Length of the square, Addhar Card number etc."
      ],
      "metadata": {
        "id": "P6DyXwGyue49"
      }
    },
    {
      "cell_type": "markdown",
      "source": [
        "(13)  How do sets handle duplicate values in Python?\n",
        "-  Set is collection of the unique item so set does not allowed the duplicate value inside it."
      ],
      "metadata": {
        "id": "kNrhDwhou-vw"
      }
    },
    {
      "cell_type": "markdown",
      "source": [
        "(14)  How does the “in” keyword work differently for lists and dictionaries?\n",
        "-   In the list in keyword chack the value is presenet in the list or not\n",
        "-   In the dictionary in keyword check the key is present in the dictionary not check the value of the dictinary .\n"
      ],
      "metadata": {
        "id": "S47KMUQ2vgWY"
      }
    },
    {
      "cell_type": "code",
      "source": [
        "List = [ 10, 20, 30]\n",
        "d = {\"name\":\"Aditya\",\"roll no\" :\"230312028002\"}\n",
        "print(10 in List)\n",
        "print(\"name\" in d)"
      ],
      "metadata": {
        "id": "hXbekLvIrVIu",
        "colab": {
          "base_uri": "https://localhost:8080/"
        },
        "outputId": "50289a86-abf8-44d3-c0a5-9656ab02648b"
      },
      "execution_count": 68,
      "outputs": [
        {
          "output_type": "stream",
          "name": "stdout",
          "text": [
            "True\n",
            "True\n"
          ]
        }
      ]
    },
    {
      "cell_type": "markdown",
      "source": [
        "(15) Can you modify the elements of a tuple? Explain why or why not?\n",
        "- No , we can not modify the element of the tuple because tuple is immutable data structure."
      ],
      "metadata": {
        "id": "DPakFnYUt7Va"
      }
    },
    {
      "cell_type": "markdown",
      "source": [
        "(16) P What is a nested dictionary, and give an example of its use case?\n",
        "- Nested dictionary mens dictionary in the dictionary.\n",
        "- Like a company has employee name and phone number with their roll number."
      ],
      "metadata": {
        "id": "b6MIEOa1wngY"
      }
    },
    {
      "cell_type": "code",
      "source": [
        "Emp = {1:{\"Name\":\"Aditya\",\"Roll No\":\"230312028002\"},2:{\"Name\":\"Madan\",\"Roll No\":\"230312028003\"}}\n",
        "print(Emp)\n",
        "print(Emp[1][\"Name\"])"
      ],
      "metadata": {
        "id": "JotNLZKwwl9t",
        "colab": {
          "base_uri": "https://localhost:8080/"
        },
        "outputId": "5df2663a-f599-4a62-8217-f8a8b1bbc1e8"
      },
      "execution_count": 69,
      "outputs": [
        {
          "output_type": "stream",
          "name": "stdout",
          "text": [
            "{1: {'Name': 'Aditya', 'Roll No': '230312028002'}, 2: {'Name': 'Madan', 'Roll No': '230312028003'}}\n",
            "Aditya\n"
          ]
        }
      ]
    },
    {
      "cell_type": "markdown",
      "source": [
        "(17)  Describe the time complexity of accessing elements in a dictionary?\n",
        "- The time complexity of accessing the element in a dictionary is O(1)"
      ],
      "metadata": {
        "id": "rtXd4MW1yyNk"
      }
    },
    {
      "cell_type": "markdown",
      "source": [
        "(18)  In what situations are lists preferred over dictionaries?\n",
        "-  When the key is unneccasry and item we get through the slicing."
      ],
      "metadata": {
        "id": "D8UT8AoezFZU"
      }
    },
    {
      "cell_type": "markdown",
      "source": [
        "(19) Why are dictionaries considered unordered, and how does that affect data retrieval?\n",
        "- Dictionary is considered unordered because dictionary work on the hash table.\n",
        "- It's affect the data retrievel because key are unique but the value is same so it create the affect whent the data retrievel."
      ],
      "metadata": {
        "id": "eXV4Jz7LznQn"
      }
    },
    {
      "cell_type": "markdown",
      "source": [
        "(20) Explain the difference between a list and a dictionary in terms of data retrieval.\n",
        "-  In the list when we retrieval the data through the slicing and indexing.\n",
        "- In the dictionary when we retrievel the data through the key."
      ],
      "metadata": {
        "id": "IWoudtlk0onQ"
      }
    },
    {
      "cell_type": "markdown",
      "source": [
        "                                      **  Practical Questions**"
      ],
      "metadata": {
        "id": "_-rHVW2e1Ft5"
      }
    },
    {
      "cell_type": "markdown",
      "source": [
        "(1) Write a code to create a string with your name and print it."
      ],
      "metadata": {
        "id": "tBGQNSPZ1xmL"
      }
    },
    {
      "cell_type": "code",
      "source": [
        "Name = input(\"Enter your name:\")\n",
        "print(Name)"
      ],
      "metadata": {
        "id": "2fKRF4IixM7h",
        "colab": {
          "base_uri": "https://localhost:8080/"
        },
        "outputId": "63af10f8-d333-49ac-eb29-357abe017024"
      },
      "execution_count": 70,
      "outputs": [
        {
          "output_type": "stream",
          "name": "stdout",
          "text": [
            "Enter your name:Aditya\n",
            "Aditya\n"
          ]
        }
      ]
    },
    {
      "cell_type": "markdown",
      "source": [
        "(2) Write a code to find the length of the string \"Hello World\"."
      ],
      "metadata": {
        "id": "_UhiHUyh2CUX"
      }
    },
    {
      "cell_type": "code",
      "source": [
        "a = \"Hello World\"\n",
        "print(len(a))"
      ],
      "metadata": {
        "id": "a1tf2CNt1_1B",
        "colab": {
          "base_uri": "https://localhost:8080/"
        },
        "outputId": "2d5ca463-dbf9-4f85-ba07-8aadc7602c20"
      },
      "execution_count": 71,
      "outputs": [
        {
          "output_type": "stream",
          "name": "stdout",
          "text": [
            "11\n"
          ]
        }
      ]
    },
    {
      "cell_type": "markdown",
      "source": [
        "(3) Write a code to slice the first 3 characters from the string \"Python Programming\""
      ],
      "metadata": {
        "id": "bt6luF3U2POp"
      }
    },
    {
      "cell_type": "code",
      "source": [
        "a = \"Python programming\"\n",
        "print(a[0:3])"
      ],
      "metadata": {
        "id": "ciUD0Kk42L0Z",
        "colab": {
          "base_uri": "https://localhost:8080/"
        },
        "outputId": "7d82b3bd-61c9-40d8-89f1-95484c747061"
      },
      "execution_count": 72,
      "outputs": [
        {
          "output_type": "stream",
          "name": "stdout",
          "text": [
            "Pyt\n"
          ]
        }
      ]
    },
    {
      "cell_type": "markdown",
      "source": [
        "(4) Write a code to convert the string \"hello\" to uppercase."
      ],
      "metadata": {
        "id": "80raBLLi2gre"
      }
    },
    {
      "cell_type": "code",
      "source": [
        "a = \"hello\"\n",
        "print(a.upper())"
      ],
      "metadata": {
        "id": "VRjiIgkT2cn6",
        "colab": {
          "base_uri": "https://localhost:8080/"
        },
        "outputId": "9d1183f7-5b5a-4176-e9d5-3cfd963d914a"
      },
      "execution_count": 73,
      "outputs": [
        {
          "output_type": "stream",
          "name": "stdout",
          "text": [
            "HELLO\n"
          ]
        }
      ]
    },
    {
      "cell_type": "markdown",
      "source": [
        "(5) Write a code to replace the word \"apple\" with \"orange\" in the string \"I like apple\".\n"
      ],
      "metadata": {
        "id": "rBgSjYMA25XV"
      }
    },
    {
      "cell_type": "code",
      "source": [
        "a = \"I like apple\"\n",
        "a= a.replace(\"apple\",\"orange\")\n",
        "a"
      ],
      "metadata": {
        "id": "TjVVziSE2w8K",
        "colab": {
          "base_uri": "https://localhost:8080/",
          "height": 35
        },
        "outputId": "9bb1abdb-8f86-473d-b9c2-728c0bb9d38a"
      },
      "execution_count": 74,
      "outputs": [
        {
          "output_type": "execute_result",
          "data": {
            "text/plain": [
              "'I like orange'"
            ],
            "application/vnd.google.colaboratory.intrinsic+json": {
              "type": "string"
            }
          },
          "metadata": {},
          "execution_count": 74
        }
      ]
    },
    {
      "cell_type": "markdown",
      "source": [
        "(6) Write a code to create a list with numbers 1 to 5 and print it.\n"
      ],
      "metadata": {
        "id": "zUB5FCDE30th"
      }
    },
    {
      "cell_type": "code",
      "source": [
        "del list\n",
        "my_list = list(range(1, 6))\n",
        "print(my_list)\n"
      ],
      "metadata": {
        "colab": {
          "base_uri": "https://localhost:8080/"
        },
        "id": "pMpS7gGH3Kpm",
        "outputId": "f9f5944d-e484-4f83-f9b0-5c77d1a7fcb4"
      },
      "execution_count": 75,
      "outputs": [
        {
          "output_type": "stream",
          "name": "stdout",
          "text": [
            "[1, 2, 3, 4, 5]\n"
          ]
        }
      ]
    },
    {
      "cell_type": "markdown",
      "source": [
        "(7) Write a code to append the number 10 to the list [1, 2, 3, 4]"
      ],
      "metadata": {
        "id": "DH90Z-xW5Jwz"
      }
    },
    {
      "cell_type": "code",
      "source": [
        "list = [1,2,3,4]\n",
        "list.append(10)\n",
        "list"
      ],
      "metadata": {
        "colab": {
          "base_uri": "https://localhost:8080/"
        },
        "id": "OCqDTZGp3_Iq",
        "outputId": "29cb059a-edef-4f99-b401-882434c0bac8"
      },
      "execution_count": 76,
      "outputs": [
        {
          "output_type": "execute_result",
          "data": {
            "text/plain": [
              "[1, 2, 3, 4, 10]"
            ]
          },
          "metadata": {},
          "execution_count": 76
        }
      ]
    },
    {
      "cell_type": "markdown",
      "source": [
        "(8) Write a code to remove the number 3 from the list [1, 2, 3, 4, 5]"
      ],
      "metadata": {
        "id": "gY1IZezD6Ip0"
      }
    },
    {
      "cell_type": "code",
      "source": [
        "a = [1,2,3,4,5]\n",
        "a.pop(2)\n",
        "a"
      ],
      "metadata": {
        "colab": {
          "base_uri": "https://localhost:8080/"
        },
        "id": "CN2npCDX4pBQ",
        "outputId": "b7427ed7-b8df-44d1-8d07-4dc7ae05cd7b"
      },
      "execution_count": 77,
      "outputs": [
        {
          "output_type": "execute_result",
          "data": {
            "text/plain": [
              "[1, 2, 4, 5]"
            ]
          },
          "metadata": {},
          "execution_count": 77
        }
      ]
    },
    {
      "cell_type": "markdown",
      "source": [
        "(9) Write a code to access the second element in the list ['a', 'b', 'c', 'd']P"
      ],
      "metadata": {
        "id": "WImWC0D86mlj"
      }
    },
    {
      "cell_type": "code",
      "source": [
        "Aditya = [\"a\",\"b\",\"c\",\"d\"]\n",
        "Aditya[1]"
      ],
      "metadata": {
        "colab": {
          "base_uri": "https://localhost:8080/",
          "height": 35
        },
        "id": "koxv7u7C6TKB",
        "outputId": "e57c7689-bb59-430a-b75e-23e3970ca10f"
      },
      "execution_count": 78,
      "outputs": [
        {
          "output_type": "execute_result",
          "data": {
            "text/plain": [
              "'b'"
            ],
            "application/vnd.google.colaboratory.intrinsic+json": {
              "type": "string"
            }
          },
          "metadata": {},
          "execution_count": 78
        }
      ]
    },
    {
      "cell_type": "markdown",
      "source": [
        "(10) Write a code to reverse the list [10, 20, 30, 40, 50]."
      ],
      "metadata": {
        "id": "QGvakIt36zy2"
      }
    },
    {
      "cell_type": "code",
      "source": [
        "a = [10,20,30,40,50]\n",
        "a[::-1]"
      ],
      "metadata": {
        "colab": {
          "base_uri": "https://localhost:8080/"
        },
        "id": "f8O5ni8K6yW-",
        "outputId": "8388891e-b388-4200-c1ca-92f55cc84849"
      },
      "execution_count": 79,
      "outputs": [
        {
          "output_type": "execute_result",
          "data": {
            "text/plain": [
              "[50, 40, 30, 20, 10]"
            ]
          },
          "metadata": {},
          "execution_count": 79
        }
      ]
    },
    {
      "cell_type": "markdown",
      "source": [
        "(11)  Write a code to create a tuple with the elements 100, 200, 300 and print it."
      ],
      "metadata": {
        "id": "yhVENy5f68yO"
      }
    },
    {
      "cell_type": "code",
      "source": [
        "a = ()\n",
        "a = a + (100,200,300)\n",
        "a"
      ],
      "metadata": {
        "colab": {
          "base_uri": "https://localhost:8080/"
        },
        "id": "7-emsxb567Xy",
        "outputId": "29c6d97d-c046-408e-9ab8-2de765965f07"
      },
      "execution_count": 80,
      "outputs": [
        {
          "output_type": "execute_result",
          "data": {
            "text/plain": [
              "(100, 200, 300)"
            ]
          },
          "metadata": {},
          "execution_count": 80
        }
      ]
    },
    {
      "cell_type": "markdown",
      "source": [
        "(12) Write a code to access the second-to-last element of the tuple ('red', 'green', 'blue', 'yellow')."
      ],
      "metadata": {
        "id": "iuVCnkXv799R"
      }
    },
    {
      "cell_type": "code",
      "source": [
        "t = (\"red\",\"green\",\"blue\",\"yellow\")\n",
        "t[-2]"
      ],
      "metadata": {
        "colab": {
          "base_uri": "https://localhost:8080/",
          "height": 35
        },
        "id": "-Mcf1ych7J19",
        "outputId": "1a16ce15-3425-4e6f-8d5f-2697465578d0"
      },
      "execution_count": 81,
      "outputs": [
        {
          "output_type": "execute_result",
          "data": {
            "text/plain": [
              "'blue'"
            ],
            "application/vnd.google.colaboratory.intrinsic+json": {
              "type": "string"
            }
          },
          "metadata": {},
          "execution_count": 81
        }
      ]
    },
    {
      "cell_type": "markdown",
      "source": [
        "(13)  Write a code to find the minimum number in the tuple (10, 20, 5, 15).\n",
        "\n"
      ],
      "metadata": {
        "id": "I7B64Xin78nX"
      }
    },
    {
      "cell_type": "code",
      "source": [
        "t = (10,20,5,15)\n",
        "min(t)"
      ],
      "metadata": {
        "colab": {
          "base_uri": "https://localhost:8080/"
        },
        "id": "8pIPxebJ8KL9",
        "outputId": "37f982c2-d716-41cf-d73d-712df335910d"
      },
      "execution_count": 82,
      "outputs": [
        {
          "output_type": "execute_result",
          "data": {
            "text/plain": [
              "5"
            ]
          },
          "metadata": {},
          "execution_count": 82
        }
      ]
    },
    {
      "cell_type": "markdown",
      "source": [
        "(14)  Write a code to find the index of the element \"cat\" in the tuple ('dog', 'cat', 'rabbit')."
      ],
      "metadata": {
        "id": "-mjvbV748a6p"
      }
    },
    {
      "cell_type": "code",
      "source": [
        "a = (\"dog\",\"cat\",\"rabbit\")\n",
        "a.index(\"cat\")"
      ],
      "metadata": {
        "colab": {
          "base_uri": "https://localhost:8080/"
        },
        "id": "C8xQYUOA8PV1",
        "outputId": "00f9001a-163d-4b2f-f44f-41edc513be3d"
      },
      "execution_count": 83,
      "outputs": [
        {
          "output_type": "execute_result",
          "data": {
            "text/plain": [
              "1"
            ]
          },
          "metadata": {},
          "execution_count": 83
        }
      ]
    },
    {
      "cell_type": "markdown",
      "source": [
        "(15)  Write a code to create a tuple containing three different fruits and check if \"kiwi\" is in it."
      ],
      "metadata": {
        "id": "Hr71w2RU8uoq"
      }
    },
    {
      "cell_type": "code",
      "source": [
        "t = (\"Apple\",\"Banana\",\"Kiwi\")\n",
        "if \"Kiwi\" in t:\n",
        "  print(f\"In the tuple {t} Kiwi is present\")\n",
        "else:\n",
        "  print(f\"In the tuple {t} Kiwi is not the present\")"
      ],
      "metadata": {
        "colab": {
          "base_uri": "https://localhost:8080/"
        },
        "id": "koQnjRDm8Zjm",
        "outputId": "eb6ee3c3-a2af-49f4-8e3e-262ee6a7c285"
      },
      "execution_count": 84,
      "outputs": [
        {
          "output_type": "stream",
          "name": "stdout",
          "text": [
            "In the tuple ('Apple', 'Banana', 'Kiwi') Kiwi is present\n"
          ]
        }
      ]
    },
    {
      "cell_type": "markdown",
      "source": [
        "(16)  Write a code to create a set with the elements 'a', 'b', 'c' and print it.\n",
        "\n"
      ],
      "metadata": {
        "id": "dnLnvm8d9W8J"
      }
    },
    {
      "cell_type": "code",
      "source": [
        "s = {\"a\",\"b\",\"c\"}\n",
        "print(s)"
      ],
      "metadata": {
        "colab": {
          "base_uri": "https://localhost:8080/"
        },
        "id": "pG-kEaBE86rO",
        "outputId": "8480e55a-cd24-4da1-b85f-86011cf60c08"
      },
      "execution_count": 85,
      "outputs": [
        {
          "output_type": "stream",
          "name": "stdout",
          "text": [
            "{'c', 'b', 'a'}\n"
          ]
        }
      ]
    },
    {
      "cell_type": "markdown",
      "source": [
        "(17)  Write a code to clear all elements from the set {1, 2, 3, 4, 5}."
      ],
      "metadata": {
        "id": "5mbb011P9gnV"
      }
    },
    {
      "cell_type": "code",
      "source": [
        "s = {1,2,3,4,5}\n",
        "s.clear()\n",
        "s"
      ],
      "metadata": {
        "colab": {
          "base_uri": "https://localhost:8080/"
        },
        "id": "QltDWhfR9fTI",
        "outputId": "d3411953-a55f-4cfd-a59b-ad1098687c18"
      },
      "execution_count": 86,
      "outputs": [
        {
          "output_type": "execute_result",
          "data": {
            "text/plain": [
              "set()"
            ]
          },
          "metadata": {},
          "execution_count": 86
        }
      ]
    },
    {
      "cell_type": "markdown",
      "source": [
        "(18)  Write a code to remove the element 4 from the set {1, 2, 3, 4}."
      ],
      "metadata": {
        "id": "ogUMLLH59rXO"
      }
    },
    {
      "cell_type": "code",
      "source": [
        "s = {1,2,3,4}\n",
        "s.discard(4)\n",
        "s"
      ],
      "metadata": {
        "colab": {
          "base_uri": "https://localhost:8080/"
        },
        "id": "Hl4hilW79n6Y",
        "outputId": "6e8afcf6-39f9-4210-cf11-c94bd1d4c159"
      },
      "execution_count": 87,
      "outputs": [
        {
          "output_type": "execute_result",
          "data": {
            "text/plain": [
              "{1, 2, 3}"
            ]
          },
          "metadata": {},
          "execution_count": 87
        }
      ]
    },
    {
      "cell_type": "markdown",
      "source": [
        "(19)  Write a code to find the union of two sets {1, 2, 3} and {3, 4, 5}."
      ],
      "metadata": {
        "id": "MqS5-7IC-OcK"
      }
    },
    {
      "cell_type": "code",
      "source": [
        "a = {1,2,3}\n",
        "b = {3,4,5}\n",
        "c = a|b\n",
        "c"
      ],
      "metadata": {
        "id": "qz9uMe2W-aoW",
        "colab": {
          "base_uri": "https://localhost:8080/"
        },
        "outputId": "647ffcb9-ae86-42bc-df1a-423b96b3dc19"
      },
      "execution_count": 88,
      "outputs": [
        {
          "output_type": "execute_result",
          "data": {
            "text/plain": [
              "{1, 2, 3, 4, 5}"
            ]
          },
          "metadata": {},
          "execution_count": 88
        }
      ]
    },
    {
      "cell_type": "markdown",
      "source": [
        "(20) Write a code to find the intersection of two sets {1, 2, 3} and {2, 3, 4}."
      ],
      "metadata": {
        "id": "CIsW84TQDeuz"
      }
    },
    {
      "cell_type": "code",
      "source": [
        "a = { 1,2,3}\n",
        "b = {2,3,4}\n",
        "c = a&b\n",
        "print(c)"
      ],
      "metadata": {
        "id": "pojgVPjOBimX",
        "colab": {
          "base_uri": "https://localhost:8080/"
        },
        "outputId": "26c15f4d-9424-40c1-8a18-14ff5bbd0c86"
      },
      "execution_count": 89,
      "outputs": [
        {
          "output_type": "stream",
          "name": "stdout",
          "text": [
            "{2, 3}\n"
          ]
        }
      ]
    },
    {
      "cell_type": "markdown",
      "source": [
        "(21) Write a code to create a dictionary with the keys \"name\", \"age\", and \"city\", and print it."
      ],
      "metadata": {
        "id": "E7huKVh7DrQA"
      }
    },
    {
      "cell_type": "code",
      "source": [
        "d = {\"name\":\"Aditya\",\"age\":21,\"city\":\"Delhi\"}\n",
        "d"
      ],
      "metadata": {
        "colab": {
          "base_uri": "https://localhost:8080/"
        },
        "id": "oDdW8QBcDqA7",
        "outputId": "99eda105-227c-462a-c462-fef2312436a4"
      },
      "execution_count": 90,
      "outputs": [
        {
          "output_type": "execute_result",
          "data": {
            "text/plain": [
              "{'name': 'Aditya', 'age': 21, 'city': 'Delhi'}"
            ]
          },
          "metadata": {},
          "execution_count": 90
        }
      ]
    },
    {
      "cell_type": "markdown",
      "source": [
        "(22)  Write a code to add a new key-value pair \"country\": \"USA\" to the dictionary {'name': 'John', 'age': 25}."
      ],
      "metadata": {
        "id": "9MCXYD1XD-so"
      }
    },
    {
      "cell_type": "code",
      "source": [
        "d = {\"name\":\"John\",\"age\":25}\n",
        "d[\"country\"] = \"USA\"\n",
        "d"
      ],
      "metadata": {
        "colab": {
          "base_uri": "https://localhost:8080/"
        },
        "id": "szvpvLigD7xX",
        "outputId": "59632c51-bd06-4acc-fb42-78f59c82768c"
      },
      "execution_count": 91,
      "outputs": [
        {
          "output_type": "execute_result",
          "data": {
            "text/plain": [
              "{'name': 'John', 'age': 25, 'country': 'USA'}"
            ]
          },
          "metadata": {},
          "execution_count": 91
        }
      ]
    },
    {
      "cell_type": "markdown",
      "source": [
        "(23) . Write a code to access the value associated with the key \"name\" in the dictionary {'name': 'Alice', 'age': 30}."
      ],
      "metadata": {
        "id": "5ElSl_MiEZsX"
      }
    },
    {
      "cell_type": "code",
      "source": [
        "a = {\"name\":\"Alice\",\"age\":30}\n",
        "a[\"name\"]"
      ],
      "metadata": {
        "colab": {
          "base_uri": "https://localhost:8080/",
          "height": 35
        },
        "id": "yCj9RTkXEQ84",
        "outputId": "3ce1bcc7-3cab-40d3-e4e2-2acb83706aa4"
      },
      "execution_count": 93,
      "outputs": [
        {
          "output_type": "execute_result",
          "data": {
            "text/plain": [
              "'Alice'"
            ],
            "application/vnd.google.colaboratory.intrinsic+json": {
              "type": "string"
            }
          },
          "metadata": {},
          "execution_count": 93
        }
      ]
    },
    {
      "cell_type": "markdown",
      "source": [
        "(24)  Write a code to remove the key \"age\" from the dictionary {'name': 'Bob', 'age': 22, 'city': 'New York'}."
      ],
      "metadata": {
        "id": "EUHEFKu4Et7q"
      }
    },
    {
      "cell_type": "code",
      "source": [
        "a = {\"name\":\"Bob\",\"age\":22,\"city\":\"New York\"}\n",
        "a.pop(\"age\")\n",
        "a\n"
      ],
      "metadata": {
        "colab": {
          "base_uri": "https://localhost:8080/"
        },
        "id": "bb7mL0pDElTP",
        "outputId": "862dbe23-df2b-42b2-987f-315881cd586a"
      },
      "execution_count": 98,
      "outputs": [
        {
          "output_type": "execute_result",
          "data": {
            "text/plain": [
              "{'name': 'Bob', 'city': 'New York'}"
            ]
          },
          "metadata": {},
          "execution_count": 98
        }
      ]
    },
    {
      "cell_type": "markdown",
      "source": [
        "(25) Write a code to check if the key \"city\" exists in the dictionary {'name': 'Alice', 'city': 'Paris'}."
      ],
      "metadata": {
        "id": "E1mlnQDWEo-7"
      }
    },
    {
      "cell_type": "code",
      "source": [
        "d = {\"name\":\"Alice\",\"city\":\"Paris\"}\n",
        "if \"city\" in d:\n",
        "  print(\"city is present in dictionary d\")\n",
        "else:\n",
        "  print(\"city is not the present in the dictionary d\")"
      ],
      "metadata": {
        "colab": {
          "base_uri": "https://localhost:8080/"
        },
        "id": "v0cnezq0FWv6",
        "outputId": "6b9fdacb-9eb1-46f5-b09d-34a569b547d5"
      },
      "execution_count": 99,
      "outputs": [
        {
          "output_type": "stream",
          "name": "stdout",
          "text": [
            "city is present in dictionary d\n"
          ]
        }
      ]
    },
    {
      "cell_type": "markdown",
      "source": [
        "(26) Write a code to create a list, a tuple, and a dictionary, and print them all."
      ],
      "metadata": {
        "id": "o-0zeqPnFxhq"
      }
    },
    {
      "cell_type": "code",
      "source": [
        "My_List = [10,20,30,40]\n",
        "My_Tuple = (10,20,30,40)\n",
        "My_dic = {\"name\":\"Alice\",\"city\":\"Paris\"}\n",
        "print(f\"My list is {My_List}\")\n",
        "print(f\"My tuple is {My_Tuple}\")\n",
        "print(f\"My dictionary is {My_dic}\")"
      ],
      "metadata": {
        "colab": {
          "base_uri": "https://localhost:8080/"
        },
        "id": "GA-ww8nNFwFI",
        "outputId": "99480814-3aab-4bf2-8a45-90b392865ff8"
      },
      "execution_count": 100,
      "outputs": [
        {
          "output_type": "stream",
          "name": "stdout",
          "text": [
            "My list is [10, 20, 30, 40]\n",
            "My tuple is (10, 20, 30, 40)\n",
            "My dictionary is {'name': 'Alice', 'city': 'Paris'}\n"
          ]
        }
      ]
    },
    {
      "cell_type": "markdown",
      "source": [
        "(27)  Write a code to create a list of 5 random numbers between 1 and 100, sort it in ascending order, and print the\n",
        "result.(replaced)\n",
        "\n"
      ],
      "metadata": {
        "id": "svjR_K4_GXDY"
      }
    },
    {
      "cell_type": "code",
      "source": [
        "\n",
        "a = []\n",
        "for i in list(range(1,101)):\n",
        "  if len(a) >=5:\n",
        "    break\n",
        "  a.append(i)\n",
        "a.sort()\n",
        "print(a)"
      ],
      "metadata": {
        "colab": {
          "base_uri": "https://localhost:8080/"
        },
        "id": "y9RHhH4yGVkC",
        "outputId": "2fd4cc4b-318e-4c59-e80b-0c215e78d749"
      },
      "execution_count": 109,
      "outputs": [
        {
          "output_type": "stream",
          "name": "stdout",
          "text": [
            "[1, 2, 3, 4, 5]\n"
          ]
        }
      ]
    },
    {
      "cell_type": "markdown",
      "source": [
        "(28) Write a code to create a list with strings and print the element at the third index."
      ],
      "metadata": {
        "id": "LlYytIojIUbC"
      }
    },
    {
      "cell_type": "code",
      "source": [
        "L = [\"Aditya\",\"Kumar\",\"Gupta\"]\n",
        "L[2]"
      ],
      "metadata": {
        "colab": {
          "base_uri": "https://localhost:8080/",
          "height": 35
        },
        "id": "rPJCOL-VHMd_",
        "outputId": "958c26b7-9073-470c-b867-84b3779ee7ea"
      },
      "execution_count": 110,
      "outputs": [
        {
          "output_type": "execute_result",
          "data": {
            "text/plain": [
              "'Gupta'"
            ],
            "application/vnd.google.colaboratory.intrinsic+json": {
              "type": "string"
            }
          },
          "metadata": {},
          "execution_count": 110
        }
      ]
    },
    {
      "cell_type": "markdown",
      "source": [
        "(29) Write a code to combine two dictionaries into one and print the result."
      ],
      "metadata": {
        "id": "SikRDbpRIqlU"
      }
    },
    {
      "cell_type": "code",
      "source": [
        "d = {\"name\":\"Aditya\"}\n",
        "p = {\"roll no\":23031202894498}\n",
        "d.update(p)\n",
        "c = d\n",
        "c"
      ],
      "metadata": {
        "colab": {
          "base_uri": "https://localhost:8080/"
        },
        "id": "UEgywGHXIlOh",
        "outputId": "cce2cc67-9c89-4743-a6f2-29cb32b591af"
      },
      "execution_count": 117,
      "outputs": [
        {
          "output_type": "execute_result",
          "data": {
            "text/plain": [
              "{'name': 'Aditya', 'roll no': 23031202894498}"
            ]
          },
          "metadata": {},
          "execution_count": 117
        }
      ]
    },
    {
      "cell_type": "code",
      "source": [
        "d = {\"name\":\"Aditya\"}\n",
        "p = {\"roll no\":23031202894498}\n",
        "c = {**d,**p}\n",
        "c"
      ],
      "metadata": {
        "colab": {
          "base_uri": "https://localhost:8080/"
        },
        "id": "3CX_AuAAI4b0",
        "outputId": "b5b3de6e-8c55-46cc-e6ab-aef31c81d7d9"
      },
      "execution_count": 118,
      "outputs": [
        {
          "output_type": "execute_result",
          "data": {
            "text/plain": [
              "{'name': 'Aditya', 'roll no': 23031202894498}"
            ]
          },
          "metadata": {},
          "execution_count": 118
        }
      ]
    },
    {
      "cell_type": "markdown",
      "source": [
        "(30)  Write a code to convert a list of strings into a set."
      ],
      "metadata": {
        "id": "H8D1TOu7KnOt"
      }
    },
    {
      "cell_type": "code",
      "source": [
        "List = [\"Aditya\",\"Kumar\",\"Gupta\"]\n",
        "a= set(List)\n",
        "a"
      ],
      "metadata": {
        "colab": {
          "base_uri": "https://localhost:8080/"
        },
        "id": "ijxBoZcTKbO7",
        "outputId": "372e908e-4fef-41cf-d781-5c922c35f8ba"
      },
      "execution_count": 119,
      "outputs": [
        {
          "output_type": "execute_result",
          "data": {
            "text/plain": [
              "{'Aditya', 'Gupta', 'Kumar'}"
            ]
          },
          "metadata": {},
          "execution_count": 119
        }
      ]
    },
    {
      "cell_type": "code",
      "source": [],
      "metadata": {
        "id": "QlzH4L_kK7X4"
      },
      "execution_count": null,
      "outputs": []
    }
  ]
}